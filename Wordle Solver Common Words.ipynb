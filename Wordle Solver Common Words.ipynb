{
 "cells": [
  {
   "cell_type": "code",
   "execution_count": 25,
   "id": "0a64a49a",
   "metadata": {},
   "outputs": [],
   "source": [
    "import numpy as np"
   ]
  },
  {
   "cell_type": "code",
   "execution_count": 26,
   "id": "56ac6295",
   "metadata": {},
   "outputs": [],
   "source": [
    "my_file = open(\"common_words.csv\", \"r\",encoding='utf-8-sig')\n",
    "#using Google's 10000 most common words ordered by frequency \n",
    "#https://github.com/first20hours/google-10000-english\n",
    "#of those 10000 words, there are 1367 that are 5 letters\n",
    "content = my_file.read()\n",
    "five_letter_words = content.split(\"\\n\")"
   ]
  },
  {
   "cell_type": "code",
   "execution_count": 27,
   "id": "ee42d46a",
   "metadata": {},
   "outputs": [],
   "source": [
    "def start():\n",
    "    status = 0\n",
    "    while status != 1:\n",
    "        candidate = np.random.choice(five_letter_words)\n",
    "        if sum([1 if (candidate[i] in ['a','e','i','o','u']) else 0 for i in range(5)])>=2 and sum([1 if (candidate[i] in ['r','s','t','l','n']) else 0 for i in range(5)])>=2 and len(set(candidate))==5:\n",
    "            status = 1\n",
    "        else:\n",
    "            status = 0\n",
    "    return candidate"
   ]
  },
  {
   "cell_type": "code",
   "execution_count": 28,
   "id": "c9c17b87",
   "metadata": {},
   "outputs": [],
   "source": [
    "def green_check(candidate_word,green_list):\n",
    "    if len(green_list) == 0:\n",
    "        green_status = 1\n",
    "    else:\n",
    "        gclist = [candidate_word[p[1]] == p[0] for p in green_list]\n",
    "        green_status = all(gclist)\n",
    "    return green_status"
   ]
  },
  {
   "cell_type": "code",
   "execution_count": 29,
   "id": "52cff225",
   "metadata": {},
   "outputs": [],
   "source": [
    "def yellow_check(candidate_word,yellow_list):\n",
    "    if len(yellow_list) == 0:\n",
    "        yellow_status = 1\n",
    "    else:\n",
    "        yclist = [(p[0] in candidate_word) and (candidate_word[p[1]] != p[0]) for p in yellow_list]\n",
    "        yellow_status = all(yclist)\n",
    "    return yellow_status"
   ]
  },
  {
   "cell_type": "code",
   "execution_count": 30,
   "id": "68fc99b0",
   "metadata": {},
   "outputs": [],
   "source": [
    "def black_check(candidate_word,black_list):\n",
    "    black_status = all([letter not in candidate_word for letter in black_list])\n",
    "    return black_status"
   ]
  },
  {
   "cell_type": "code",
   "execution_count": 31,
   "id": "d93f8c49",
   "metadata": {},
   "outputs": [],
   "source": [
    "def update_list(word_list,black_list,green_list,yellow_list):\n",
    "    new_word_list = []\n",
    "    for word in word_list:\n",
    "        if all([green_check(word,green_list),yellow_check(word,yellow_list),black_check(word,black_list)]):\n",
    "            new_word_list.append(word)\n",
    "    return new_word_list\n"
   ]
  },
  {
   "cell_type": "code",
   "execution_count": 32,
   "id": "19a99b18",
   "metadata": {},
   "outputs": [
    {
     "name": "stdout",
     "output_type": "stream",
     "text": [
      "Initial Guess: intro\n",
      "Wordle's Response: 00YYY\n",
      "Next Guess: other\n",
      "Wordle's Response: YY00Y\n",
      "Next Guess: ports\n",
      "Wordle's Response: 0GYY0\n",
      "Next Guess: robot\n",
      "Wordle's Response: GGGGG\n"
     ]
    }
   ],
   "source": [
    "new_word = start()\n",
    "word_list = five_letter_words\n",
    "print(\"Initial Guess:\", new_word)\n",
    "green_list = []\n",
    "yellow_list = []\n",
    "black_list = []\n",
    "status = input(\"Wordle's Response: \")\n",
    "while status != 'GGGGG':\n",
    "    for i in range(len(status)):\n",
    "        if status[i] == 'G':\n",
    "            green_list.append([new_word[i],i])\n",
    "        if status[i] == 'Y':\n",
    "            yellow_list.append([new_word[i],i])\n",
    "        if status[i] == '0':\n",
    "            black_list.append(new_word[i])\n",
    "    word_list = update_list(word_list,black_list,green_list,yellow_list)\n",
    "    new_word = word_list[0]\n",
    "    print(\"Next Guess:\", new_word)\n",
    "    status = input(\"Wordle's Response: \")"
   ]
  },
  {
   "cell_type": "code",
   "execution_count": null,
   "id": "80db31b5",
   "metadata": {},
   "outputs": [],
   "source": []
  }
 ],
 "metadata": {
  "kernelspec": {
   "display_name": "Python 3",
   "language": "python",
   "name": "python3"
  },
  "language_info": {
   "codemirror_mode": {
    "name": "ipython",
    "version": 3
   },
   "file_extension": ".py",
   "mimetype": "text/x-python",
   "name": "python",
   "nbconvert_exporter": "python",
   "pygments_lexer": "ipython3",
   "version": "3.7.10"
  }
 },
 "nbformat": 4,
 "nbformat_minor": 5
}
